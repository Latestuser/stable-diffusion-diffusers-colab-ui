{
  "nbformat": 4,
  "nbformat_minor": 0,
  "metadata": {
    "colab": {
      "provenance": [],
      "toc_visible": true,
      "authorship_tag": "ABX9TyNG2pl8jKc8G9gJx57zyOjk",
      "include_colab_link": true
    },
    "kernelspec": {
      "name": "python3",
      "display_name": "Python 3"
    },
    "language_info": {
      "name": "python"
    }
  },
  "cells": [
    {
      "cell_type": "markdown",
      "metadata": {
        "id": "view-in-github",
        "colab_type": "text"
      },
      "source": [
        "<a href=\"https://colab.research.google.com/github/oneir0mancer/stable-diffusion-diffusers-colab-ui/blob/main/sd_kandinsky_colab_ui.ipynb\" target=\"_parent\"><img src=\"https://colab.research.google.com/assets/colab-badge.svg\" alt=\"Open In Colab\"/></a>"
      ]
    },
    {
      "cell_type": "markdown",
      "source": [
        "# Kandinsky"
      ],
      "metadata": {
        "id": "J5jPbraGhH-D"
      }
    },
    {
      "cell_type": "code",
      "execution_count": null,
      "metadata": {
        "cellView": "form",
        "id": "ayR-stkCUiZh"
      },
      "outputs": [],
      "source": [
        "#@title Install dependencies\n",
        "!pip install 'git+https://github.com/ai-forever/Kandinsky-2.git'\n",
        "!pip install git+https://github.com/openai/CLIP.git\n",
        "!mkdir -p outputs/{txt2img,img2img}\n",
        "!git clone https://github.com/oneir0mancer/stable-diffusion-diffusers-colab-ui.git StableDiffusionUi"
      ]
    },
    {
      "cell_type": "code",
      "source": [
        "#@title Create model\n",
        "from kandinsky2 import get_kandinsky2\n",
        "\n",
        "model = get_kandinsky2('cuda', task_type='text2img', cache_dir='/tmp/kandinsky2', \n",
        "                       model_version='2.1', use_flash_attention=False)\n",
        "sampler = \"p_sampler\""
      ],
      "metadata": {
        "cellView": "form",
        "id": "05ppJRuPfw56"
      },
      "execution_count": null,
      "outputs": []
    },
    {
      "cell_type": "code",
      "source": [
        "#@title (Optional) Change sampler \n",
        "sampler = \"p_sampler\" #@param [\"p_sampler\", \"ddim_sampler\", \"plms_sampler\"]"
      ],
      "metadata": {
        "cellView": "form",
        "id": "OxmVn8OLf1al"
      },
      "execution_count": null,
      "outputs": []
    },
    {
      "cell_type": "markdown",
      "source": [
        "## Txt2Img"
      ],
      "metadata": {
        "id": "oy0VXcG8iZlj"
      }
    },
    {
      "cell_type": "code",
      "source": [
        "#@title Render UI\n",
        "#@markdown You don't need to run this cell again unless you want to change these settings\n",
        "save_images = True #@param {type:\"boolean\"}\n",
        "display_previewes = True    #@param {type:\"boolean\"}\n",
        "#@markdown ---\n",
        "\n",
        "from StableDiffusionUi.ColabUI.KandinskyUI import KandinskyUI\n",
        "\n",
        "ui = KandinskyUI()\n",
        "ui.render()"
      ],
      "metadata": {
        "cellView": "form",
        "id": "zFlSy38ef3iV"
      },
      "execution_count": null,
      "outputs": []
    },
    {
      "cell_type": "code",
      "source": [
        "#@title Run this cell to generate images\n",
        "images = ui.generate(model, sampler)\n",
        "\n",
        "if display_previewes:\n",
        "    ui.display_image_previews(images)\n",
        "\n",
        "if save_images:\n",
        "    for image in results.images:\n",
        "        image.save(f\"outputs/txt2img/{output_index:05}.png\")\n",
        "        print(f\"outputs/txt2img/{output_index:05}.png\")\n",
        "        output_index += 1"
      ],
      "metadata": {
        "cellView": "form",
        "id": "z5dCbkQ0f9KV"
      },
      "execution_count": null,
      "outputs": []
    },
    {
      "cell_type": "markdown",
      "source": [
        "## Image mixing\n",
        "(WIP)"
      ],
      "metadata": {
        "id": "wQPK2SDpic70"
      }
    },
    {
      "cell_type": "code",
      "source": [
        "#@title Render UI\n",
        "import io\n",
        "import ipywidgets as widgets\n",
        "from PIL import Image\n",
        "\n",
        "text_img_a = widgets.Text(placeholder=\"Path to 1st image\")\n",
        "text_img_b = widgets.Text(placeholder=\"Path to 2nd image\")\n",
        "slider_img_a = widgets.FloatSlider(max=1, step=0.05)\n",
        "slider_img_b = widgets.FloatSlider(max=1, step=0.05)\n",
        "text_prompt_a = widgets.Text(placeholder=\"Optional 1st prompt\")\n",
        "text_prompt_b = widgets.Text(placeholder=\"Optional 2nd prompt\")\n",
        "slider_prompt_a = widgets.FloatSlider(max=1, step=0.05)\n",
        "slider_prompt_b = widgets.FloatSlider(max=1, step=0.05)\n",
        "\n",
        "width_field = widgets.IntText(value=512, layout=widgets.Layout(width='200px'), description=\"width: \")\n",
        "height_field = widgets.IntText(value=768, layout=widgets.Layout(width='200px'), description=\"height: \")\n",
        "steps_field = widgets.IntSlider(value=20, min=1, max=100, description=\"Steps: \")\n",
        "cfg_field = widgets.FloatSlider(value=7, min=1, max=20, step=0.5, description=\"CFG: \")\n",
        "\n",
        "display(widgets.HBox([text_img_a, text_img_b]), widgets.HBox([slider_img_a, slider_img_b]))\n",
        "display(widgets.HBox([text_prompt_a, text_prompt_b]), widgets.HBox([slider_prompt_a, slider_prompt_b]))\n",
        "display(widgets.HBox([width_field, height_field]), steps_field, cfg_field)"
      ],
      "metadata": {
        "cellView": "form",
        "id": "csc--queiiNE"
      },
      "execution_count": null,
      "outputs": []
    },
    {
      "cell_type": "code",
      "source": [
        "#@title Run this cell to generate\n",
        "def display_image_previews(images):\n",
        "        wgts = []\n",
        "        for image in images:\n",
        "            img_byte_arr = io.BytesIO()\n",
        "            image.save(img_byte_arr, format='PNG')\n",
        "            wgt = widgets.Image(\n",
        "                value=img_byte_arr.getvalue(),\n",
        "                width=image.width/2,\n",
        "                height=image.height/2,\n",
        "            )\n",
        "            wgts.append(wgt)\n",
        "        display(widgets.HBox(wgts))\n",
        "\n",
        "img_a = Image.open(text_img_a.value)\n",
        "img_b = Image.open(text_img_b.value)\n",
        "images_texts = [text_prompt_a.value, img_a, img_b, text_prompt_b.value]\n",
        "weights = [slider_prompt_a.value, slider_img_a.value, slider_img_b.value, slider_prompt_b.value]\n",
        "\n",
        "images = model.mix_images(\n",
        "    images_texts, \n",
        "    weights, \n",
        "    num_steps=steps_field.value,\n",
        "    batch_size=1, \n",
        "    guidance_scale=cfg_field.value,\n",
        "    h=height_field.value, w=width_field.value,\n",
        "    sampler=sampler, \n",
        "    prior_cf_scale=4,\n",
        "    prior_steps=\"5\"\n",
        ")\n",
        "display_image_previews([img_a, images[0], img_b])"
      ],
      "metadata": {
        "cellView": "form",
        "id": "bz0Ty0b4nA2E"
      },
      "execution_count": null,
      "outputs": []
    }
  ]
}